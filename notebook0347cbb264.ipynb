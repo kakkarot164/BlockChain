{
 "cells": [
  {
   "cell_type": "code",
   "execution_count": 1,
   "id": "6fa36044",
   "metadata": {
    "_cell_guid": "b1076dfc-b9ad-4769-8c92-a6c4dae69d19",
    "_uuid": "8f2839f25d086af736a60e9eeb907d3b93b6e0e5",
    "execution": {
     "iopub.execute_input": "2024-04-14T07:20:54.718837Z",
     "iopub.status.busy": "2024-04-14T07:20:54.717952Z",
     "iopub.status.idle": "2024-04-14T07:20:56.173053Z",
     "shell.execute_reply": "2024-04-14T07:20:56.171918Z"
    },
    "papermill": {
     "duration": 1.461814,
     "end_time": "2024-04-14T07:20:56.175745",
     "exception": false,
     "start_time": "2024-04-14T07:20:54.713931",
     "status": "completed"
    },
    "tags": []
   },
   "outputs": [],
   "source": [
    "# This Python 3 environment comes with many helpful analytics libraries installed\n",
    "# It is defined by the kaggle/python Docker image: https://github.com/kaggle/docker-python\n",
    "# For example, here's several helpful packages to load\n",
    "\n",
    "import numpy as np # linear algebra\n",
    "import pandas as pd # data processing, CSV file I/O (e.g. pd.read_csv)\n",
    "\n",
    "# Input data files are available in the read-only \"../input/\" directory\n",
    "# For example, running this (by clicking run or pressing Shift+Enter) will list all files under the input directory\n",
    "\n",
    "import os\n",
    "for dirname, _, filenames in os.walk('/kaggle/input'):\n",
    "    for filename in filenames:\n",
    "        print(os.path.join(dirname, filename))\n",
    "\n",
    "# You can write up to 20GB to the current directory (/kaggle/working/) that gets preserved as output when you create a version using \"Save & Run All\" \n",
    "# You can also write temporary files to /kaggle/temp/, but they won't be saved outside of the current session"
   ]
  },
  {
   "cell_type": "code",
   "execution_count": 2,
   "id": "bb449848",
   "metadata": {
    "execution": {
     "iopub.execute_input": "2024-04-14T07:20:56.181409Z",
     "iopub.status.busy": "2024-04-14T07:20:56.180916Z",
     "iopub.status.idle": "2024-04-14T07:20:59.052151Z",
     "shell.execute_reply": "2024-04-14T07:20:59.050899Z"
    },
    "papermill": {
     "duration": 2.876756,
     "end_time": "2024-04-14T07:20:59.054708",
     "exception": false,
     "start_time": "2024-04-14T07:20:56.177952",
     "status": "completed"
    },
    "tags": []
   },
   "outputs": [
    {
     "name": "stdout",
     "output_type": "stream",
     "text": [
      "Cloning into 'ESRGAN'...\r\n",
      "remote: Enumerating objects: 225, done.\u001b[K\r\n",
      "remote: Total 225 (delta 0), reused 0 (delta 0), pack-reused 225\u001b[K\r\n",
      "Receiving objects: 100% (225/225), 24.86 MiB | 39.28 MiB/s, done.\r\n",
      "Resolving deltas: 100% (86/86), done.\r\n"
     ]
    }
   ],
   "source": [
    "!git clone https://github.com/xinntao/ESRGAN.git\n"
   ]
  }
 ],
 "metadata": {
  "kaggle": {
   "accelerator": "nvidiaTeslaT4",
   "dataSources": [],
   "dockerImageVersionId": 30683,
   "isGpuEnabled": true,
   "isInternetEnabled": true,
   "language": "python",
   "sourceType": "notebook"
  },
  "kernelspec": {
   "display_name": "Python 3",
   "language": "python",
   "name": "python3"
  },
  "language_info": {
   "codemirror_mode": {
    "name": "ipython",
    "version": 3
   },
   "file_extension": ".py",
   "mimetype": "text/x-python",
   "name": "python",
   "nbconvert_exporter": "python",
   "pygments_lexer": "ipython3",
   "version": "3.10.13"
  },
  "papermill": {
   "default_parameters": {},
   "duration": 9.00428,
   "end_time": "2024-04-14T07:20:59.579139",
   "environment_variables": {},
   "exception": null,
   "input_path": "__notebook__.ipynb",
   "output_path": "__notebook__.ipynb",
   "parameters": {},
   "start_time": "2024-04-14T07:20:50.574859",
   "version": "2.5.0"
  }
 },
 "nbformat": 4,
 "nbformat_minor": 5
}
