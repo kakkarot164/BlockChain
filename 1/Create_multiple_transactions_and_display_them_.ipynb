{
  "nbformat": 4,
  "nbformat_minor": 0,
  "metadata": {
    "colab": {
      "provenance": []
    },
    "kernelspec": {
      "name": "python3",
      "display_name": "Python 3"
    },
    "language_info": {
      "name": "python"
    }
  },
  "cells": [
    {
      "cell_type": "code",
      "execution_count": null,
      "metadata": {
        "colab": {
          "base_uri": "https://localhost:8080/"
        },
        "id": "STIiYMAsrpNU",
        "outputId": "c6a923cc-266c-425c-c93e-805c75f06cad"
      },
      "outputs": [
        {
          "output_type": "stream",
          "name": "stdout",
          "text": [
            "Sagar\n",
            "\n",
            "Enter the sender: Sagar\n",
            "Enter the recipient of the transaction: Gugu\n",
            "Enter the amount of the transaction: 10000000\n",
            "[{'sender': 'Sagar', 'recipient': 'Gugu', 'amount': 10000000.0}]\n",
            "Add more block Y/N? y\n",
            "Enter the sender: Sagar\n",
            "Enter the recipient of the transaction: Guni\n",
            "Enter the amount of the transaction: 5000\n",
            "[{'sender': 'Sagar', 'recipient': 'Gugu', 'amount': 10000000.0}, {'sender': 'Sagar', 'recipient': 'Guni', 'amount': 5000.0}]\n",
            "Add more block Y/N? N\n",
            "[{'sender': 'Sagar', 'recipient': 'Gugu', 'amount': 10000000.0}, {'sender': 'Sagar', 'recipient': 'Guni', 'amount': 5000.0}]\n"
          ]
        }
      ],
      "source": [
        "blockchain = []\n",
        "\n",
        "print(\"Sagar\\n\")\n",
        "\n",
        "def get_last_value():\n",
        "    return blockchain[-1]\n",
        "\n",
        "def add_value(sender, recipient, amount=1.0):\n",
        "    transaction = {\n",
        "        \"sender\": sender,\n",
        "        \"recipient\": recipient,\n",
        "        \"amount\": amount\n",
        "    }\n",
        "    blockchain.append(transaction)\n",
        "\n",
        "def get_transaction_value():\n",
        "    tx_sender = input(\"Enter the sender: \")\n",
        "    tx_recipient = input(\"Enter the recipient of the transaction: \")\n",
        "    tx_amount = float(input(\"Enter the amount of the transaction: \"))\n",
        "    return tx_sender, tx_recipient, tx_amount\n",
        "\n",
        "def print_block():\n",
        "    for block in blockchain:\n",
        "        print(\"Sagar\\n\")\n",
        "        print(\"Here is your block\")\n",
        "        print(block)\n",
        "\n",
        "again = True\n",
        "while again:\n",
        "    tx = get_transaction_value()\n",
        "    s, r, a = tx\n",
        "    add_value(s, r, a)\n",
        "    print(blockchain)\n",
        "    more = input(\"Add more block Y/N? \")\n",
        "    if more.lower() == \"y\":\n",
        "        again = True\n",
        "    else:\n",
        "        again = False\n",
        "\n",
        "print(blockchain)\n"
      ]
    }
  ]
}