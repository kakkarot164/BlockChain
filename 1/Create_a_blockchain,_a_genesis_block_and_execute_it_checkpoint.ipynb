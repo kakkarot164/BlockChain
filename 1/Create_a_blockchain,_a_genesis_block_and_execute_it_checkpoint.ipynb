{
  "cells": [
    {
      "cell_type": "code",
      "execution_count": null,
      "metadata": {
        "colab": {
          "base_uri": "https://localhost:8080/"
        },
        "id": "7v-5Jc0_tIna",
        "outputId": "68dc38be-784e-41cf-8379-e57047562b8c"
      },
      "outputs": [
        {
          "output_type": "stream",
          "name": "stdout",
          "text": [
            "Himanshu\n",
            "\n",
            "Here is your block\n",
            "{'previous_hash': ' ', 'index': 0, 'transaction': [], 'nonce': 23}\n",
            "Enter the sender: Sagar\n",
            "Enter the recipient of the transaction: cg\n",
            "Enter the amount of the transaction: 1000\n",
            "[{'previous_hash': ' ', 'index': 0, 'transaction': [], 'nonce': 23}, {'sender': 'Sagar', 'recipient': 'cg', 'amount': 1000.0}]\n",
            "Add more block Y/N? n\n",
            "[{'previous_hash': ' ', 'index': 0, 'transaction': [], 'nonce': 23}, {'sender': 'Sagar', 'recipient': 'cg', 'amount': 1000.0}]\n"
          ]
        }
      ],
      "source": [
        "genesis_block = {\n",
        "    \"previous_hash\": \" \",\n",
        "    \"index\": 0,\n",
        "    \"transaction\": [],\n",
        "    \"nonce\": 23\n",
        "}\n",
        "\n",
        "blockchain = [genesis_block]\n",
        "\n",
        "\n",
        "def get_last_value():\n",
        "    return blockchain[-1]\n",
        "\n",
        "\n",
        "def add_value(sender, recipient, amount=1.0):\n",
        "    transaction = {\n",
        "        \"sender\": sender,\n",
        "        \"recipient\": recipient,\n",
        "        \"amount\": amount\n",
        "    }\n",
        "    blockchain.append(transaction)\n",
        "\n",
        "\n",
        "def get_transaction_value():\n",
        "    tx_sender = input(\"Enter the sender: \")\n",
        "    tx_recipient = input(\"Enter the recipient of the transaction: \")\n",
        "    tx_amount = float(input(\"Enter the amount of the transaction: \"))\n",
        "    return tx_sender, tx_recipient, tx_amount\n",
        "\n",
        "\n",
        "def get_user_choice():\n",
        "    user_input = input(\"Please give your choice here: \")\n",
        "    return user_input\n",
        "\n",
        "\n",
        "def print_block():\n",
        "    for block in blockchain:\n",
        "        print(\"Sagar\\n\")\n",
        "        print(\"Here is your block\")\n",
        "        print(block)\n",
        "\n",
        "\n",
        "print_block()\n",
        "\n",
        "again = True\n",
        "while again:\n",
        "    tx = get_transaction_value()\n",
        "    s, r, a = tx\n",
        "    add_value(s, r, a)\n",
        "    print(blockchain)\n",
        "    more = input(\"Add more block Y/N? \")\n",
        "    if more.lower() == \"y\":\n",
        "        again = True\n",
        "    else:\n",
        "        again = False\n",
        "\n",
        "print(blockchain)\n"
      ]
    },
    {
      "cell_type": "code",
      "execution_count": null,
      "metadata": {
        "id": "vlSvrjLGtC4H"
      },
      "outputs": [],
      "source": []
    }
  ],
  "metadata": {
    "colab": {
      "provenance": []
    },
    "kernelspec": {
      "display_name": "Python 3 (ipykernel)",
      "language": "python",
      "name": "python3"
    },
    "language_info": {
      "codemirror_mode": {
        "name": "ipython",
        "version": 3
      },
      "file_extension": ".py",
      "mimetype": "text/x-python",
      "name": "python",
      "nbconvert_exporter": "python",
      "pygments_lexer": "ipython3",
      "version": "3.9.13"
    }
  },
  "nbformat": 4,
  "nbformat_minor": 0
}