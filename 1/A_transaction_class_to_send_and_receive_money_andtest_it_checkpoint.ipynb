{
  "cells": [
    {
      "cell_type": "code",
      "execution_count": null,
      "metadata": {
        "id": "v_sLag1Oq33P"
      },
      "outputs": [],
      "source": [
        "class Bank:\n",
        "    def __init__(self):\n",
        "        self.balance = 0\n",
        "        print(\"Sagar\\n\")\n",
        "        print(\"The account is created\")\n",
        "\n",
        "    def deposit(self):\n",
        "        amount = float(input(\"Enter the amount to be deposited: \"))\n",
        "        self.balance = self.balance + amount\n",
        "        print(\"The deposit is successful, and the balance in the account is %f\" % self.balance)\n",
        "\n",
        "    def withdraw(self):\n",
        "        amount = float(input(\"Enter the amount to withdraw: \"))\n",
        "        if self.balance >= amount:\n",
        "            self.balance = self.balance - amount\n",
        "            print(\"The withdrawal is successful, and the balance is %f\" % self.balance)\n",
        "        else:\n",
        "            print(\"Insufficient Balance\")\n",
        "\n",
        "    def enquiry(self):\n",
        "        print(\"Balance in the account is %f\" % self.balance)\n",
        "\n",
        "\n",
        "\n"
      ]
    },
    {
      "cell_type": "code",
      "execution_count": null,
      "metadata": {
        "colab": {
          "base_uri": "https://localhost:8080/"
        },
        "id": "emHfmR5-rVPk",
        "outputId": "9cfbc270-82a5-4631-b5ab-1dc35b0af63f"
      },
      "outputs": [
        {
          "output_type": "stream",
          "name": "stdout",
          "text": [
            "Sagar\n",
            "\n",
            "The account is created\n",
            "Enter the amount to be deposited: 10000\n",
            "The deposit is successful, and the balance in the account is 10000.000000\n",
            "Enter the amount to withdraw: 5000\n",
            "The withdrawal is successful, and the balance is 5000.000000\n",
            "Balance in the account is 5000.000000\n"
          ]
        }
      ],
      "source": [
        "# Create an instance of the Bank class and perform operations\n",
        "acc = Bank()\n",
        "acc.deposit()\n",
        "acc.withdraw()\n",
        "acc.enquiry()"
      ]
    },
    {
      "cell_type": "code",
      "execution_count": null,
      "metadata": {
        "id": "LUGoqzWorMsz"
      },
      "outputs": [],
      "source": []
    }
  ],
  "metadata": {
    "colab": {
      "provenance": []
    },
    "kernelspec": {
      "display_name": "Python 3 (ipykernel)",
      "language": "python",
      "name": "python3"
    },
    "language_info": {
      "codemirror_mode": {
        "name": "ipython",
        "version": 3
      },
      "file_extension": ".py",
      "mimetype": "text/x-python",
      "name": "python",
      "nbconvert_exporter": "python",
      "pygments_lexer": "ipython3",
      "version": "3.9.13"
    }
  },
  "nbformat": 4,
  "nbformat_minor": 0
}