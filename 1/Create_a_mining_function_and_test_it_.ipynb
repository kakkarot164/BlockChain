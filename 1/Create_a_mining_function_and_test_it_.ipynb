{
  "nbformat": 4,
  "nbformat_minor": 0,
  "metadata": {
    "colab": {
      "provenance": []
    },
    "kernelspec": {
      "name": "python3",
      "display_name": "Python 3"
    },
    "language_info": {
      "name": "python"
    }
  },
  "cells": [
    {
      "cell_type": "code",
      "execution_count": null,
      "metadata": {
        "colab": {
          "base_uri": "https://localhost:8080/"
        },
        "id": "PgF482EhupHw",
        "outputId": "285c765e-4879-4cb5-ca48-ad53ceaed62e"
      },
      "outputs": [
        {
          "output_type": "stream",
          "name": "stdout",
          "text": [
            "Start mining\n",
            "Yay! Successfully mined bitcoins with nonce value: 131427\n",
            "0000699b648e59214d9d510829d822df62655c9d8ea8fb40b3e5815d857ff40d\n",
            "End mining. Mining took: 0.381864070892334 seconds\n",
            "The new hash value: 0000699b648e59214d9d510829d822df62655c9d8ea8fb40b3e5815d857ff40d\n"
          ]
        }
      ],
      "source": [
        "from hashlib import sha256\n",
        "import time\n",
        "\n",
        "MAX_NONCE = 1000000000000\n",
        "\n",
        "\n",
        "def SHA256(text):\n",
        "    return sha256(text.encode(\"ascii\")).hexdigest()\n",
        "\n",
        "\n",
        "def mine(block_number, transactions, previous_hash, prefix_zeros):\n",
        "    prefix_str = '0' * prefix_zeros\n",
        "    for nonce in range(MAX_NONCE):\n",
        "        text = str(block_number) + transactions + previous_hash + str(nonce)\n",
        "        new_hash = SHA256(text)\n",
        "        if new_hash.startswith(prefix_str):\n",
        "            print(f\"Yay! Successfully mined bitcoins with nonce value: {nonce}\")\n",
        "            return new_hash\n",
        "\n",
        "    raise BaseException(f\"Couldn't find correct hash after trying {MAX_NONCE} times\")\n",
        "\n",
        "\n",
        "if __name__ == \"__main__\":\n",
        "    transactions = \"Govind -> Siddhi -> 20, Saroj -> Pooja -> 45\"\n",
        "    block_number = 5\n",
        "    difficulty = 4\n",
        "    start = time.time()\n",
        "    print(\"Start mining\")\n",
        "    new_hash = mine(block_number, transactions, '0000000xa036944e2968dbe038fecf9a2b8321c6ec7', difficulty)\n",
        "    print(new_hash)\n",
        "\n",
        "    total_time = str((time.time() - start))\n",
        "    print(f\"End mining. Mining took: {total_time} seconds\")\n",
        "    print(\"The new hash value:\", new_hash)\n"
      ]
    }
  ]
}